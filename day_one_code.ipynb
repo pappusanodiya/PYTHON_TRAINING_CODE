{
 "cells": [
  {
   "cell_type": "code",
   "execution_count": 1,
   "id": "a8ee29dc",
   "metadata": {},
   "outputs": [],
   "source": [
    "s = \"linux world\""
   ]
  },
  {
   "cell_type": "code",
   "execution_count": 2,
   "id": "e12e0703",
   "metadata": {},
   "outputs": [
    {
     "data": {
      "text/plain": [
       "'n'"
      ]
     },
     "execution_count": 2,
     "metadata": {},
     "output_type": "execute_result"
    }
   ],
   "source": [
    "s[2]"
   ]
  },
  {
   "cell_type": "code",
   "execution_count": 3,
   "id": "cb22a264",
   "metadata": {},
   "outputs": [
    {
     "data": {
      "text/plain": [
       "'nux world'"
      ]
     },
     "execution_count": 3,
     "metadata": {},
     "output_type": "execute_result"
    }
   ],
   "source": [
    "s[2:]"
   ]
  },
  {
   "cell_type": "code",
   "execution_count": 4,
   "id": "fbbed17d",
   "metadata": {},
   "outputs": [
    {
     "data": {
      "text/plain": [
       "'lin'"
      ]
     },
     "execution_count": 4,
     "metadata": {},
     "output_type": "execute_result"
    }
   ],
   "source": [
    "s[:3]"
   ]
  },
  {
   "cell_type": "code",
   "execution_count": 7,
   "id": "57e89245",
   "metadata": {},
   "outputs": [],
   "source": [
    "#dir(s)"
   ]
  },
  {
   "cell_type": "code",
   "execution_count": 8,
   "id": "ab8f972f",
   "metadata": {},
   "outputs": [
    {
     "name": "stdout",
     "output_type": "stream",
     "text": [
      "Help on built-in function capitalize:\n",
      "\n",
      "capitalize() method of builtins.str instance\n",
      "    Return a capitalized version of the string.\n",
      "    \n",
      "    More specifically, make the first character have upper case and the rest lower\n",
      "    case.\n",
      "\n"
     ]
    }
   ],
   "source": [
    "help(s.capitalize)"
   ]
  },
  {
   "cell_type": "code",
   "execution_count": 9,
   "id": "972e035f",
   "metadata": {},
   "outputs": [
    {
     "data": {
      "text/plain": [
       "'Linux world'"
      ]
     },
     "execution_count": 9,
     "metadata": {},
     "output_type": "execute_result"
    }
   ],
   "source": [
    "s.capitalize()"
   ]
  },
  {
   "cell_type": "code",
   "execution_count": 10,
   "id": "8a32575a",
   "metadata": {},
   "outputs": [
    {
     "data": {
      "text/plain": [
       "'linux world'"
      ]
     },
     "execution_count": 10,
     "metadata": {},
     "output_type": "execute_result"
    }
   ],
   "source": [
    "s"
   ]
  },
  {
   "cell_type": "code",
   "execution_count": 11,
   "id": "b9fbe3da",
   "metadata": {},
   "outputs": [
    {
     "data": {
      "text/plain": [
       "'Linux world'"
      ]
     },
     "execution_count": 11,
     "metadata": {},
     "output_type": "execute_result"
    }
   ],
   "source": [
    "# shift + tab\n",
    "s.capitalize()"
   ]
  },
  {
   "cell_type": "code",
   "execution_count": 16,
   "id": "faaf347b",
   "metadata": {},
   "outputs": [
    {
     "data": {
      "text/plain": [
       "False"
      ]
     },
     "execution_count": 16,
     "metadata": {},
     "output_type": "execute_result"
    }
   ],
   "source": [
    "s.endswith(\"o\")"
   ]
  },
  {
   "cell_type": "code",
   "execution_count": 25,
   "id": "4659353e",
   "metadata": {},
   "outputs": [],
   "source": [
    "email = [ \n",
    "        \"vimal@lw.com\",\n",
    "        \"amit@gmail.com\",\n",
    "        \"pop@.com\",\n",
    "        \"lw@.com\",\n",
    "        \"p@l.com\",\n",
    "        \"krishna@gmail.com\"\n",
    "    ]"
   ]
  },
  {
   "cell_type": "code",
   "execution_count": 24,
   "id": "3935b017",
   "metadata": {},
   "outputs": [
    {
     "data": {
      "text/plain": [
       "True"
      ]
     },
     "execution_count": 24,
     "metadata": {},
     "output_type": "execute_result"
    }
   ],
   "source": [
    "email[1].endswith(\"gmail.com\")"
   ]
  },
  {
   "cell_type": "code",
   "execution_count": 40,
   "id": "b01d59f8",
   "metadata": {},
   "outputs": [
    {
     "data": {
      "text/plain": [
       "['vimal@lw.com',\n",
       " 'amit@gmail.com',\n",
       " 'pop@.com',\n",
       " 'lw@.com',\n",
       " 'p@l.com',\n",
       " 'krishna@gmail.com']"
      ]
     },
     "execution_count": 40,
     "metadata": {},
     "output_type": "execute_result"
    }
   ],
   "source": [
    "email"
   ]
  },
  {
   "cell_type": "code",
   "execution_count": 27,
   "id": "ebc211e8",
   "metadata": {},
   "outputs": [
    {
     "data": {
      "text/plain": [
       "['pop@.com', 'lw@.com', 'p@l.com']"
      ]
     },
     "execution_count": 27,
     "metadata": {},
     "output_type": "execute_result"
    }
   ],
   "source": [
    "email[2:5]"
   ]
  },
  {
   "cell_type": "code",
   "execution_count": 28,
   "id": "1ddce01c",
   "metadata": {},
   "outputs": [
    {
     "data": {
      "text/plain": [
       "['vimal@lw.com', 'amit@gmail.com', 'pop@.com', 'lw@.com', 'p@l.com']"
      ]
     },
     "execution_count": 28,
     "metadata": {},
     "output_type": "execute_result"
    }
   ],
   "source": [
    "email[:5]"
   ]
  },
  {
   "cell_type": "code",
   "execution_count": 29,
   "id": "bb246592",
   "metadata": {},
   "outputs": [
    {
     "data": {
      "text/plain": [
       "['krishna@gmail.com']"
      ]
     },
     "execution_count": 29,
     "metadata": {},
     "output_type": "execute_result"
    }
   ],
   "source": [
    "email[5:]"
   ]
  },
  {
   "cell_type": "code",
   "execution_count": 30,
   "id": "b8bc8933",
   "metadata": {},
   "outputs": [],
   "source": [
    "# email[start:end:step size]\n",
    "#index 1\n",
    "#next index 1 + step size (2) = 3"
   ]
  },
  {
   "cell_type": "code",
   "execution_count": 32,
   "id": "46446c1e",
   "metadata": {},
   "outputs": [
    {
     "data": {
      "text/plain": [
       "['amit@gmail.com', 'lw@.com', 'krishna@gmail.com']"
      ]
     },
     "execution_count": 32,
     "metadata": {},
     "output_type": "execute_result"
    }
   ],
   "source": [
    "email[1:6:2]"
   ]
  },
  {
   "cell_type": "code",
   "execution_count": 33,
   "id": "0097f9bf",
   "metadata": {},
   "outputs": [
    {
     "data": {
      "text/plain": [
       "['vimal@lw.com', 'lw@.com']"
      ]
     },
     "execution_count": 33,
     "metadata": {},
     "output_type": "execute_result"
    }
   ],
   "source": [
    "email[::3]"
   ]
  },
  {
   "cell_type": "code",
   "execution_count": 35,
   "id": "a787e3b3",
   "metadata": {},
   "outputs": [
    {
     "data": {
      "text/plain": [
       "'p@l.com'"
      ]
     },
     "execution_count": 35,
     "metadata": {},
     "output_type": "execute_result"
    }
   ],
   "source": [
    "email[-2]"
   ]
  },
  {
   "cell_type": "code",
   "execution_count": 36,
   "id": "2ce7dcc9",
   "metadata": {},
   "outputs": [
    {
     "data": {
      "text/plain": [
       "['lw@.com', 'p@l.com', 'krishna@gmail.com']"
      ]
     },
     "execution_count": 36,
     "metadata": {},
     "output_type": "execute_result"
    }
   ],
   "source": [
    "email[-3:]"
   ]
  },
  {
   "cell_type": "code",
   "execution_count": 45,
   "id": "6599f368",
   "metadata": {},
   "outputs": [
    {
     "data": {
      "text/plain": [
       "'\\nemail[0:5:-1]\\n\\n-1 + 0 = -1\\n- + -1 = -2\\n-2 -1 = -3\\n-3 - 1 = -4\\n\\n'"
      ]
     },
     "execution_count": 45,
     "metadata": {},
     "output_type": "execute_result"
    }
   ],
   "source": [
    "email[::-1]\n",
    "\n",
    "\n",
    "\"\"\"\n",
    "email[0:5:-1]\n",
    "\n",
    "-1 + 0 = -1\n",
    "- + -1 = -2\n",
    "-2 -1 = -3\n",
    "-3 - 1 = -4\n",
    "\n",
    "\"\"\""
   ]
  },
  {
   "cell_type": "code",
   "execution_count": 46,
   "id": "097f8660",
   "metadata": {},
   "outputs": [
    {
     "data": {
      "text/plain": [
       "['krishna@gmail.com',\n",
       " 'p@l.com',\n",
       " 'lw@.com',\n",
       " 'pop@.com',\n",
       " 'amit@gmail.com',\n",
       " 'vimal@lw.com']"
      ]
     },
     "execution_count": 46,
     "metadata": {},
     "output_type": "execute_result"
    }
   ],
   "source": [
    "email[::-1]"
   ]
  },
  {
   "cell_type": "code",
   "execution_count": 49,
   "id": "2da18fb6",
   "metadata": {},
   "outputs": [],
   "source": [
    "email.reverse()"
   ]
  },
  {
   "cell_type": "code",
   "execution_count": 50,
   "id": "6358ed5c",
   "metadata": {},
   "outputs": [
    {
     "data": {
      "text/plain": [
       "['vimal@lw.com',\n",
       " 'amit@gmail.com',\n",
       " 'pop@.com',\n",
       " 'lw@.com',\n",
       " 'p@l.com',\n",
       " 'krishna@gmail.com']"
      ]
     },
     "execution_count": 50,
     "metadata": {},
     "output_type": "execute_result"
    }
   ],
   "source": [
    "email"
   ]
  },
  {
   "cell_type": "code",
   "execution_count": 51,
   "id": "d1e9ba7d",
   "metadata": {},
   "outputs": [
    {
     "data": {
      "text/plain": [
       "'linux world'"
      ]
     },
     "execution_count": 51,
     "metadata": {},
     "output_type": "execute_result"
    }
   ],
   "source": [
    "s"
   ]
  },
  {
   "cell_type": "code",
   "execution_count": 52,
   "id": "4603e17a",
   "metadata": {},
   "outputs": [
    {
     "data": {
      "text/plain": [
       "'dlrow xunil'"
      ]
     },
     "execution_count": 52,
     "metadata": {},
     "output_type": "execute_result"
    }
   ],
   "source": [
    "s[::-1]"
   ]
  },
  {
   "cell_type": "code",
   "execution_count": 53,
   "id": "f145c783",
   "metadata": {},
   "outputs": [],
   "source": [
    "s = \"this is linux world\""
   ]
  },
  {
   "cell_type": "code",
   "execution_count": 54,
   "id": "79beda04",
   "metadata": {},
   "outputs": [
    {
     "data": {
      "text/plain": [
       "'this is linux world'"
      ]
     },
     "execution_count": 54,
     "metadata": {},
     "output_type": "execute_result"
    }
   ],
   "source": [
    "s"
   ]
  },
  {
   "cell_type": "code",
   "execution_count": 56,
   "id": "be8910f8",
   "metadata": {},
   "outputs": [
    {
     "data": {
      "text/plain": [
       "False"
      ]
     },
     "execution_count": 56,
     "metadata": {},
     "output_type": "execute_result"
    }
   ],
   "source": [
    "\"vimal\" in s"
   ]
  },
  {
   "cell_type": "code",
   "execution_count": 57,
   "id": "97a1b8d6",
   "metadata": {},
   "outputs": [
    {
     "data": {
      "text/plain": [
       "True"
      ]
     },
     "execution_count": 57,
     "metadata": {},
     "output_type": "execute_result"
    }
   ],
   "source": [
    "\"is\" in s"
   ]
  },
  {
   "cell_type": "code",
   "execution_count": 58,
   "id": "11472be8",
   "metadata": {},
   "outputs": [],
   "source": [
    "find = \"linux\" in s"
   ]
  },
  {
   "cell_type": "code",
   "execution_count": 59,
   "id": "d922c4a8",
   "metadata": {},
   "outputs": [
    {
     "data": {
      "text/plain": [
       "True"
      ]
     },
     "execution_count": 59,
     "metadata": {},
     "output_type": "execute_result"
    }
   ],
   "source": [
    "find"
   ]
  },
  {
   "cell_type": "code",
   "execution_count": 60,
   "id": "e3611257",
   "metadata": {},
   "outputs": [
    {
     "data": {
      "text/plain": [
       "bool"
      ]
     },
     "execution_count": 60,
     "metadata": {},
     "output_type": "execute_result"
    }
   ],
   "source": [
    "type(find)"
   ]
  },
  {
   "cell_type": "code",
   "execution_count": 69,
   "id": "398199fb",
   "metadata": {},
   "outputs": [],
   "source": [
    "x = 5\n",
    "y = 10\n",
    "\n",
    "# swap data\n",
    "\n",
    "z = y\n",
    "\n",
    "y = x\n",
    "x = z"
   ]
  },
  {
   "cell_type": "code",
   "execution_count": 70,
   "id": "3e788712",
   "metadata": {},
   "outputs": [
    {
     "data": {
      "text/plain": [
       "5"
      ]
     },
     "execution_count": 70,
     "metadata": {},
     "output_type": "execute_result"
    }
   ],
   "source": [
    "y"
   ]
  },
  {
   "cell_type": "code",
   "execution_count": 72,
   "id": "dca69f3d",
   "metadata": {},
   "outputs": [],
   "source": [
    "x = 5\n",
    "y = 20"
   ]
  },
  {
   "cell_type": "code",
   "execution_count": 73,
   "id": "83d4b75b",
   "metadata": {},
   "outputs": [],
   "source": [
    "# swap Operation\n",
    "x ,y = y, x"
   ]
  },
  {
   "cell_type": "code",
   "execution_count": 76,
   "id": "5997f32e",
   "metadata": {},
   "outputs": [],
   "source": [
    "i, j, k = 2, 3, 5"
   ]
  },
  {
   "cell_type": "code",
   "execution_count": 77,
   "id": "eb1f8697",
   "metadata": {},
   "outputs": [
    {
     "name": "stdout",
     "output_type": "stream",
     "text": [
      "2 3 5\n"
     ]
    }
   ],
   "source": [
    "print( i, j, k)"
   ]
  },
  {
   "cell_type": "code",
   "execution_count": 78,
   "id": "c9f6486a",
   "metadata": {},
   "outputs": [],
   "source": [
    "db = [ 2, 3, 4, 5]"
   ]
  },
  {
   "cell_type": "code",
   "execution_count": 79,
   "id": "86c5a85b",
   "metadata": {},
   "outputs": [],
   "source": [
    "# list unpacking\n",
    "i, j, k, p = db"
   ]
  },
  {
   "cell_type": "code",
   "execution_count": 80,
   "id": "7e949f91",
   "metadata": {},
   "outputs": [
    {
     "data": {
      "text/plain": [
       "(2, 3, 4, 5)"
      ]
     },
     "execution_count": 80,
     "metadata": {},
     "output_type": "execute_result"
    }
   ],
   "source": [
    "i, j, k, p"
   ]
  },
  {
   "cell_type": "code",
   "execution_count": 81,
   "id": "487a01a3",
   "metadata": {},
   "outputs": [
    {
     "data": {
      "text/plain": [
       "9"
      ]
     },
     "execution_count": 81,
     "metadata": {},
     "output_type": "execute_result"
    }
   ],
   "source": [
    "4+5"
   ]
  },
  {
   "cell_type": "code",
   "execution_count": 83,
   "id": "38e23d66",
   "metadata": {},
   "outputs": [
    {
     "data": {
      "text/plain": [
       "54"
      ]
     },
     "execution_count": 83,
     "metadata": {},
     "output_type": "execute_result"
    }
   ],
   "source": [
    "_*6"
   ]
  },
  {
   "cell_type": "code",
   "execution_count": 84,
   "id": "e04382a4",
   "metadata": {},
   "outputs": [
    {
     "data": {
      "text/plain": [
       "36"
      ]
     },
     "execution_count": 84,
     "metadata": {},
     "output_type": "execute_result"
    }
   ],
   "source": [
    "6**2"
   ]
  },
  {
   "cell_type": "code",
   "execution_count": 85,
   "id": "be5aca34",
   "metadata": {},
   "outputs": [
    {
     "data": {
      "text/plain": [
       "36"
      ]
     },
     "execution_count": 85,
     "metadata": {},
     "output_type": "execute_result"
    }
   ],
   "source": [
    "_"
   ]
  },
  {
   "cell_type": "code",
   "execution_count": 88,
   "id": "b2b09c11",
   "metadata": {},
   "outputs": [
    {
     "name": "stdout",
     "output_type": "stream",
     "text": [
      "hi\n"
     ]
    }
   ],
   "source": [
    "print(\"hi\")"
   ]
  },
  {
   "cell_type": "code",
   "execution_count": 98,
   "id": "c08e040e",
   "metadata": {},
   "outputs": [],
   "source": [
    "db = [ 1, 2, 3, 4, 5, 6, 7, 8, 9, 10 ]"
   ]
  },
  {
   "cell_type": "code",
   "execution_count": 90,
   "id": "7ec9a873",
   "metadata": {},
   "outputs": [
    {
     "ename": "IndexError",
     "evalue": "list index out of range",
     "output_type": "error",
     "traceback": [
      "\u001b[0;31m---------------------------------------------------------------------------\u001b[0m",
      "\u001b[0;31mIndexError\u001b[0m                                Traceback (most recent call last)",
      "\u001b[0;32m/tmp/ipykernel_24271/1063041238.py\u001b[0m in \u001b[0;36m<module>\u001b[0;34m\u001b[0m\n\u001b[0;32m----> 1\u001b[0;31m \u001b[0mdb\u001b[0m\u001b[0;34m[\u001b[0m\u001b[0;36m6\u001b[0m\u001b[0;34m]\u001b[0m\u001b[0;34m\u001b[0m\u001b[0;34m\u001b[0m\u001b[0m\n\u001b[0m",
      "\u001b[0;31mIndexError\u001b[0m: list index out of range"
     ]
    }
   ],
   "source": []
  },
  {
   "cell_type": "code",
   "execution_count": 91,
   "id": "c65fa1d7",
   "metadata": {},
   "outputs": [
    {
     "name": "stdout",
     "output_type": "stream",
     "text": [
      "1\n",
      "2\n",
      "3\n",
      "4\n",
      "5\n",
      "6\n"
     ]
    }
   ],
   "source": [
    "for i in db: \n",
    "    print(i)"
   ]
  },
  {
   "cell_type": "code",
   "execution_count": 92,
   "id": "e7d11577",
   "metadata": {},
   "outputs": [
    {
     "data": {
      "text/plain": [
       "'this is linux world'"
      ]
     },
     "execution_count": 92,
     "metadata": {},
     "output_type": "execute_result"
    }
   ],
   "source": [
    "s"
   ]
  },
  {
   "cell_type": "code",
   "execution_count": 93,
   "id": "255da689",
   "metadata": {},
   "outputs": [
    {
     "data": {
      "text/plain": [
       "True"
      ]
     },
     "execution_count": 93,
     "metadata": {},
     "output_type": "execute_result"
    }
   ],
   "source": [
    "\"linux\" in s"
   ]
  },
  {
   "cell_type": "code",
   "execution_count": 95,
   "id": "c9bad917",
   "metadata": {},
   "outputs": [
    {
     "data": {
      "text/plain": [
       "False"
      ]
     },
     "execution_count": 95,
     "metadata": {},
     "output_type": "execute_result"
    }
   ],
   "source": [
    "\"5\" in s"
   ]
  },
  {
   "cell_type": "code",
   "execution_count": 99,
   "id": "5efe1f65",
   "metadata": {},
   "outputs": [
    {
     "name": "stdout",
     "output_type": "stream",
     "text": [
      "2\n",
      "4\n",
      "6\n",
      "8\n",
      "10\n",
      "12\n",
      "14\n",
      "16\n",
      "18\n",
      "20\n"
     ]
    }
   ],
   "source": [
    "for i in db:\n",
    "    print(i*2)"
   ]
  },
  {
   "cell_type": "code",
   "execution_count": 107,
   "id": "3bfca01a",
   "metadata": {},
   "outputs": [
    {
     "data": {
      "text/plain": [
       "False"
      ]
     },
     "execution_count": 107,
     "metadata": {},
     "output_type": "execute_result"
    }
   ],
   "source": [
    "5 > 26"
   ]
  },
  {
   "cell_type": "code",
   "execution_count": 104,
   "id": "e617398b",
   "metadata": {},
   "outputs": [
    {
     "name": "stdout",
     "output_type": "stream",
     "text": [
      "not\n"
     ]
    }
   ],
   "source": [
    "if False:\n",
    "    print(\"ok\")\n",
    "else:\n",
    "    print(\"not\")"
   ]
  },
  {
   "cell_type": "code",
   "execution_count": 115,
   "id": "fadca182",
   "metadata": {},
   "outputs": [
    {
     "name": "stdout",
     "output_type": "stream",
     "text": [
      "linux World\n"
     ]
    }
   ],
   "source": [
    "if bool (print('linux ' , end = '' ) ):\n",
    "    print(\"linux \")\n",
    "else:\n",
    "    print(\"World\")"
   ]
  },
  {
   "cell_type": "code",
   "execution_count": 116,
   "id": "bad6d072",
   "metadata": {},
   "outputs": [
    {
     "data": {
      "text/plain": [
       "['vimal@lw.com',\n",
       " 'amit@gmail.com',\n",
       " 'pop@.com',\n",
       " 'lw@.com',\n",
       " 'p@l.com',\n",
       " 'krishna@gmail.com']"
      ]
     },
     "execution_count": 116,
     "metadata": {},
     "output_type": "execute_result"
    }
   ],
   "source": [
    "email"
   ]
  },
  {
   "cell_type": "code",
   "execution_count": 117,
   "id": "2ebc0491",
   "metadata": {},
   "outputs": [
    {
     "name": "stdout",
     "output_type": "stream",
     "text": [
      "amit@gmail.com\n",
      "krishna@gmail.com\n"
     ]
    }
   ],
   "source": [
    "for e in email:\n",
    "    if e.endswith(\"@gmail.com\"):\n",
    "        print(e)"
   ]
  },
  {
   "cell_type": "code",
   "execution_count": 124,
   "id": "3a0ffac7",
   "metadata": {},
   "outputs": [],
   "source": [
    "mobiles = [\n",
    "        \"+917354541737\",\n",
    "        \"+927355561737\",\n",
    "        \"+423456754666\"\n",
    "        ]"
   ]
  },
  {
   "cell_type": "code",
   "execution_count": 126,
   "id": "8b95a1b8",
   "metadata": {},
   "outputs": [
    {
     "name": "stdout",
     "output_type": "stream",
     "text": [
      "+917354541737\n"
     ]
    }
   ],
   "source": [
    "for mobile in mobiles:\n",
    "    if mobile.startswith(\"+91\"):\n",
    "        pywhatkit.sendwhatmsg(mobile, \"hello from pappu sanodiya\", 18, 36)"
   ]
  },
  {
   "cell_type": "code",
   "execution_count": 129,
   "id": "1b739980",
   "metadata": {},
   "outputs": [],
   "source": [
    "import os"
   ]
  },
  {
   "cell_type": "code",
   "execution_count": 131,
   "id": "aa80b502",
   "metadata": {},
   "outputs": [
    {
     "name": "stderr",
     "output_type": "stream",
     "text": [
      "sh: 1: chrome: not found\n"
     ]
    },
    {
     "data": {
      "text/plain": [
       "32512"
      ]
     },
     "execution_count": 131,
     "metadata": {},
     "output_type": "execute_result"
    }
   ],
   "source": [
    "os.system(\"chrome\")"
   ]
  },
  {
   "cell_type": "code",
   "execution_count": 134,
   "id": "01c338f7",
   "metadata": {},
   "outputs": [
    {
     "ename": "ModuleNotFoundError",
     "evalue": "No module named 'pywhatkit'",
     "output_type": "error",
     "traceback": [
      "\u001b[0;31m---------------------------------------------------------------------------\u001b[0m",
      "\u001b[0;31mModuleNotFoundError\u001b[0m                       Traceback (most recent call last)",
      "\u001b[0;32m/tmp/ipykernel_24271/3678125927.py\u001b[0m in \u001b[0;36m<module>\u001b[0;34m\u001b[0m\n\u001b[1;32m      2\u001b[0m \u001b[0;34m\u001b[0m\u001b[0m\n\u001b[1;32m      3\u001b[0m \u001b[0;31m# load module\u001b[0m\u001b[0;34m\u001b[0m\u001b[0;34m\u001b[0m\u001b[0m\n\u001b[0;32m----> 4\u001b[0;31m \u001b[0;32mimport\u001b[0m \u001b[0mpywhatkit\u001b[0m\u001b[0;34m\u001b[0m\u001b[0;34m\u001b[0m\u001b[0m\n\u001b[0m",
      "\u001b[0;31mModuleNotFoundError\u001b[0m: No module named 'pywhatkit'"
     ]
    }
   ],
   "source": [
    "# pip installl pywhatkit # library\n",
    "\n",
    "# load module\n",
    "import pywhatkit"
   ]
  },
  {
   "cell_type": "code",
   "execution_count": null,
   "id": "ed65dc8f",
   "metadata": {},
   "outputs": [],
   "source": [
    "pywhatkit.sendwhatmsg(\"+9173545417\", \"hello from pappu sanodiya\", 18, 36)"
   ]
  }
 ],
 "metadata": {
  "kernelspec": {
   "display_name": "Python 3 (ipykernel)",
   "language": "python",
   "name": "python3"
  },
  "language_info": {
   "codemirror_mode": {
    "name": "ipython",
    "version": 3
   },
   "file_extension": ".py",
   "mimetype": "text/x-python",
   "name": "python",
   "nbconvert_exporter": "python",
   "pygments_lexer": "ipython3",
   "version": "3.10.4"
  }
 },
 "nbformat": 4,
 "nbformat_minor": 5
}
